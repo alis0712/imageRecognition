{
 "cells": [
  {
   "cell_type": "markdown",
   "id": "471d502c",
   "metadata": {},
   "source": [
    "## Syed Ali\n",
    "## COSC 819 Project Report Appendix"
   ]
  },
  {
   "cell_type": "code",
   "execution_count": 1,
   "id": "04c71354",
   "metadata": {},
   "outputs": [
    {
     "name": "stderr",
     "output_type": "stream",
     "text": [
      "C:\\Users\\syeda\\anaconda3\\envs\\myenv\\lib\\site-packages\\tensorflow\\python\\framework\\dtypes.py:516: FutureWarning: Passing (type, 1) or '1type' as a synonym of type is deprecated; in a future version of numpy, it will be understood as (type, (1,)) / '(1,)type'.\n",
      "  _np_qint8 = np.dtype([(\"qint8\", np.int8, 1)])\n",
      "C:\\Users\\syeda\\anaconda3\\envs\\myenv\\lib\\site-packages\\tensorflow\\python\\framework\\dtypes.py:517: FutureWarning: Passing (type, 1) or '1type' as a synonym of type is deprecated; in a future version of numpy, it will be understood as (type, (1,)) / '(1,)type'.\n",
      "  _np_quint8 = np.dtype([(\"quint8\", np.uint8, 1)])\n",
      "C:\\Users\\syeda\\anaconda3\\envs\\myenv\\lib\\site-packages\\tensorflow\\python\\framework\\dtypes.py:518: FutureWarning: Passing (type, 1) or '1type' as a synonym of type is deprecated; in a future version of numpy, it will be understood as (type, (1,)) / '(1,)type'.\n",
      "  _np_qint16 = np.dtype([(\"qint16\", np.int16, 1)])\n",
      "C:\\Users\\syeda\\anaconda3\\envs\\myenv\\lib\\site-packages\\tensorflow\\python\\framework\\dtypes.py:519: FutureWarning: Passing (type, 1) or '1type' as a synonym of type is deprecated; in a future version of numpy, it will be understood as (type, (1,)) / '(1,)type'.\n",
      "  _np_quint16 = np.dtype([(\"quint16\", np.uint16, 1)])\n",
      "C:\\Users\\syeda\\anaconda3\\envs\\myenv\\lib\\site-packages\\tensorflow\\python\\framework\\dtypes.py:520: FutureWarning: Passing (type, 1) or '1type' as a synonym of type is deprecated; in a future version of numpy, it will be understood as (type, (1,)) / '(1,)type'.\n",
      "  _np_qint32 = np.dtype([(\"qint32\", np.int32, 1)])\n",
      "C:\\Users\\syeda\\anaconda3\\envs\\myenv\\lib\\site-packages\\tensorflow\\python\\framework\\dtypes.py:525: FutureWarning: Passing (type, 1) or '1type' as a synonym of type is deprecated; in a future version of numpy, it will be understood as (type, (1,)) / '(1,)type'.\n",
      "  np_resource = np.dtype([(\"resource\", np.ubyte, 1)])\n",
      "C:\\Users\\syeda\\anaconda3\\envs\\myenv\\lib\\site-packages\\tensorboard\\compat\\tensorflow_stub\\dtypes.py:541: FutureWarning: Passing (type, 1) or '1type' as a synonym of type is deprecated; in a future version of numpy, it will be understood as (type, (1,)) / '(1,)type'.\n",
      "  _np_qint8 = np.dtype([(\"qint8\", np.int8, 1)])\n",
      "C:\\Users\\syeda\\anaconda3\\envs\\myenv\\lib\\site-packages\\tensorboard\\compat\\tensorflow_stub\\dtypes.py:542: FutureWarning: Passing (type, 1) or '1type' as a synonym of type is deprecated; in a future version of numpy, it will be understood as (type, (1,)) / '(1,)type'.\n",
      "  _np_quint8 = np.dtype([(\"quint8\", np.uint8, 1)])\n",
      "C:\\Users\\syeda\\anaconda3\\envs\\myenv\\lib\\site-packages\\tensorboard\\compat\\tensorflow_stub\\dtypes.py:543: FutureWarning: Passing (type, 1) or '1type' as a synonym of type is deprecated; in a future version of numpy, it will be understood as (type, (1,)) / '(1,)type'.\n",
      "  _np_qint16 = np.dtype([(\"qint16\", np.int16, 1)])\n",
      "C:\\Users\\syeda\\anaconda3\\envs\\myenv\\lib\\site-packages\\tensorboard\\compat\\tensorflow_stub\\dtypes.py:544: FutureWarning: Passing (type, 1) or '1type' as a synonym of type is deprecated; in a future version of numpy, it will be understood as (type, (1,)) / '(1,)type'.\n",
      "  _np_quint16 = np.dtype([(\"quint16\", np.uint16, 1)])\n",
      "C:\\Users\\syeda\\anaconda3\\envs\\myenv\\lib\\site-packages\\tensorboard\\compat\\tensorflow_stub\\dtypes.py:545: FutureWarning: Passing (type, 1) or '1type' as a synonym of type is deprecated; in a future version of numpy, it will be understood as (type, (1,)) / '(1,)type'.\n",
      "  _np_qint32 = np.dtype([(\"qint32\", np.int32, 1)])\n",
      "C:\\Users\\syeda\\anaconda3\\envs\\myenv\\lib\\site-packages\\tensorboard\\compat\\tensorflow_stub\\dtypes.py:550: FutureWarning: Passing (type, 1) or '1type' as a synonym of type is deprecated; in a future version of numpy, it will be understood as (type, (1,)) / '(1,)type'.\n",
      "  np_resource = np.dtype([(\"resource\", np.ubyte, 1)])\n"
     ]
    }
   ],
   "source": [
    "import tensorflow as tf\n",
    "import numpy as np\n",
    "import matplotlib.pyplot as plt\n",
    "from tensorflow.keras.layers import Input, Conv2D, Dense, Flatten, Dropout, GlobalMaxPooling2D, MaxPooling2D, BatchNormalization \n",
    "from tensorflow.keras.models import Model\n",
    "from sklearn.metrics import confusion_matrix\n",
    "import itertools"
   ]
  },
  {
   "cell_type": "code",
   "execution_count": 28,
   "id": "1d7d152d",
   "metadata": {},
   "outputs": [
    {
     "name": "stdout",
     "output_type": "stream",
     "text": [
      "[name: \"/device:CPU:0\"\n",
      "device_type: \"CPU\"\n",
      "memory_limit: 268435456\n",
      "locality {\n",
      "}\n",
      "incarnation: 9287754373057749166\n",
      "]\n"
     ]
    }
   ],
   "source": [
    "from tensorflow.python.client import device_lib \n",
    "print(device_lib.list_local_devices())"
   ]
  },
  {
   "cell_type": "markdown",
   "id": "8e41dc17",
   "metadata": {},
   "source": [
    "# Performing CNN on MNIST Samples"
   ]
  },
  {
   "cell_type": "code",
   "execution_count": 2,
   "id": "4b64ff7c",
   "metadata": {},
   "outputs": [
    {
     "name": "stdout",
     "output_type": "stream",
     "text": [
      "x_train.shape (60000, 28, 28)\n"
     ]
    }
   ],
   "source": [
    "#load in the dataset\n",
    "fashion_mnist = tf.keras.datasets.fashion_mnist\n",
    "(x_train, y_train), (x_test, y_test) = fashion_mnist.load_data()\n",
    "x_train, x_test = x_train / 255.0, x_test / 255.0\n",
    "print(\"x_train.shape\", x_train.shape)"
   ]
  },
  {
   "cell_type": "code",
   "execution_count": 3,
   "id": "e43a3aba",
   "metadata": {},
   "outputs": [
    {
     "name": "stdout",
     "output_type": "stream",
     "text": [
      "(60000, 28, 28, 1)\n"
     ]
    }
   ],
   "source": [
    "# the data is only 2D\n",
    "# convolution expects a height x width x color\n",
    "x_train = np.expand_dims(x_train, -1)\n",
    "x_test = np.expand_dims(x_test, -1)\n",
    "print(x_train.shape)"
   ]
  },
  {
   "cell_type": "code",
   "execution_count": 4,
   "id": "c5351b96",
   "metadata": {},
   "outputs": [
    {
     "name": "stdout",
     "output_type": "stream",
     "text": [
      "number of classes 10\n"
     ]
    }
   ],
   "source": [
    "# number of classes\n",
    "k = len(set(y_train))\n",
    "print(\"number of classes\", k)"
   ]
  },
  {
   "cell_type": "code",
   "execution_count": 5,
   "id": "b796ca28",
   "metadata": {},
   "outputs": [
    {
     "name": "stdout",
     "output_type": "stream",
     "text": [
      "WARNING:tensorflow:From C:\\Users\\syeda\\anaconda3\\envs\\myenv\\lib\\site-packages\\tensorflow\\python\\ops\\init_ops.py:1251: calling VarianceScaling.__init__ (from tensorflow.python.ops.init_ops) with dtype is deprecated and will be removed in a future version.\n",
      "Instructions for updating:\n",
      "Call initializer instance with the dtype argument instead of passing it to the constructor\n"
     ]
    }
   ],
   "source": [
    "# Build the model using the functional API\n",
    "i = Input(shape=x_train[0].shape)\n",
    "x = Conv2D(32, (3,3), strides = 2, activation = 'relu')(i)\n",
    "x = Conv2D(64, (3,3), strides = 2, activation = 'relu')(x)\n",
    "x = Conv2D(128, (3,3), strides = 2, activation = 'relu')(x)\n",
    "x = Flatten()(x)\n",
    "x = Dropout(0.2)(x)\n",
    "x = Dense(512, activation = 'relu')(x)\n",
    "x = Dense(k, activation = 'softmax')(x)\n",
    "\n",
    "model = Model(i, x)\n"
   ]
  },
  {
   "cell_type": "code",
   "execution_count": 6,
   "id": "6ff99680",
   "metadata": {},
   "outputs": [
    {
     "name": "stdout",
     "output_type": "stream",
     "text": [
      "Train on 60000 samples, validate on 10000 samples\n",
      "Epoch 1/15\n",
      "60000/60000 [==============================] - 9s 156us/sample - loss: 0.5075 - acc: 0.8111 - val_loss: 0.3964 - val_acc: 0.8481\n",
      "Epoch 2/15\n",
      "60000/60000 [==============================] - 10s 171us/sample - loss: 0.3495 - acc: 0.8684 - val_loss: 0.3395 - val_acc: 0.8726\n",
      "Epoch 3/15\n",
      "60000/60000 [==============================] - 11s 180us/sample - loss: 0.3039 - acc: 0.8849 - val_loss: 0.3405 - val_acc: 0.8696\n",
      "Epoch 4/15\n",
      "60000/60000 [==============================] - 11s 184us/sample - loss: 0.2699 - acc: 0.8982 - val_loss: 0.3073 - val_acc: 0.8873\n",
      "Epoch 5/15\n",
      "60000/60000 [==============================] - 11s 185us/sample - loss: 0.2442 - acc: 0.9070 - val_loss: 0.2853 - val_acc: 0.8972\n",
      "Epoch 6/15\n",
      "60000/60000 [==============================] - 12s 194us/sample - loss: 0.2216 - acc: 0.9151 - val_loss: 0.2862 - val_acc: 0.9000\n",
      "Epoch 7/15\n",
      "60000/60000 [==============================] - 11s 188us/sample - loss: 0.2024 - acc: 0.9232 - val_loss: 0.3109 - val_acc: 0.8942\n",
      "Epoch 8/15\n",
      "60000/60000 [==============================] - 11s 181us/sample - loss: 0.1836 - acc: 0.9304 - val_loss: 0.3147 - val_acc: 0.8911\n",
      "Epoch 9/15\n",
      "60000/60000 [==============================] - 12s 192us/sample - loss: 0.1741 - acc: 0.9338 - val_loss: 0.2985 - val_acc: 0.9002\n",
      "Epoch 10/15\n",
      "60000/60000 [==============================] - 12s 194us/sample - loss: 0.1605 - acc: 0.9376 - val_loss: 0.3351 - val_acc: 0.8963\n",
      "Epoch 11/15\n",
      "60000/60000 [==============================] - 12s 195us/sample - loss: 0.1479 - acc: 0.9433 - val_loss: 0.3287 - val_acc: 0.8974\n",
      "Epoch 12/15\n",
      "60000/60000 [==============================] - 11s 190us/sample - loss: 0.1368 - acc: 0.9477 - val_loss: 0.3419 - val_acc: 0.9027\n",
      "Epoch 13/15\n",
      "60000/60000 [==============================] - 12s 193us/sample - loss: 0.1285 - acc: 0.9501 - val_loss: 0.3383 - val_acc: 0.9016\n",
      "Epoch 14/15\n",
      "60000/60000 [==============================] - 12s 194us/sample - loss: 0.1184 - acc: 0.9547 - val_loss: 0.3661 - val_acc: 0.8966\n",
      "Epoch 15/15\n",
      "60000/60000 [==============================] - 12s 195us/sample - loss: 0.1114 - acc: 0.9574 - val_loss: 0.3569 - val_acc: 0.9023\n"
     ]
    }
   ],
   "source": [
    "#compile and fit\n",
    "#Note: using GPU \n",
    "model.compile(optimizer = 'adam',\n",
    "              loss = 'sparse_categorical_crossentropy',\n",
    "              metrics = ['accuracy'])\n",
    "r = model.fit(x_train, y_train, validation_data = (x_test, y_test), epochs = 15)"
   ]
  },
  {
   "cell_type": "code",
   "execution_count": 7,
   "id": "642ab608",
   "metadata": {},
   "outputs": [
    {
     "data": {
      "text/plain": [
       "<matplotlib.legend.Legend at 0x12dade3d6a0>"
      ]
     },
     "execution_count": 7,
     "metadata": {},
     "output_type": "execute_result"
    },
    {
     "data": {
      "image/png": "[encoded data removed]",
      "text/plain": [
       "<Figure size 432x288 with 1 Axes>"
      ]
     },
     "metadata": {
      "needs_background": "light"
     },
     "output_type": "display_data"
    }
   ],
   "source": [
    "# plot loss per iteration\n",
    "plt.plot(r.history['loss'], label = 'loss')\n",
    "plt.plot(r.history['val_loss'], label = 'val_loss')\n",
    "plt.legend()"
   ]
  },
  {
   "cell_type": "code",
   "execution_count": 8,
   "id": "4d9ecb1e",
   "metadata": {},
   "outputs": [
    {
     "data": {
      "text/plain": [
       "<matplotlib.legend.Legend at 0x12dae89b5f8>"
      ]
     },
     "execution_count": 8,
     "metadata": {},
     "output_type": "execute_result"
    },
    {
     "data": {
      "image/png": "[encoded data removed]",
      "text/plain": [
       "<Figure size 432x288 with 1 Axes>"
      ]
     },
     "metadata": {
      "needs_background": "light"
     },
     "output_type": "display_data"
    }
   ],
   "source": [
    "#plot accuracy per iteration\n",
    "plt.plot(r.history['acc'], label = 'acc')\n",
    "plt.plot(r.history['val_acc'], label = 'val_acc')\n",
    "plt.legend()"
   ]
  },
  {
   "cell_type": "code",
   "execution_count": 9,
   "id": "21824843",
   "metadata": {},
   "outputs": [
    {
     "name": "stdout",
     "output_type": "stream",
     "text": [
      "Confusion matrix, without normalization\n",
      "[[837   1  22  25   1   1 109   0   4   0]\n",
      " [  2 978   0  12   2   0   4   0   2   0]\n",
      " [ 13   2 869  10  47   0  58   0   1   0]\n",
      " [  8   9  16 924  22   0  21   0   0   0]\n",
      " [  1   1  60  33 820   0  83   0   2   0]\n",
      " [  0   1   0   0   0 981   0  14   0   4]\n",
      " [ 86   0  78  22  81   0 724   0   9   0]\n",
      " [  0   0   0   1   0  16   0 966   0  17]\n",
      " [  0   1   5   3   5   3   5   1 976   1]\n",
      " [  0   0   0   0   0   8   1  43   0 948]]\n"
     ]
    },
    {
     "data": {
      "image/png": "[encoded data removed]",
      "text/plain": [
       "<Figure size 432x288 with 2 Axes>"
      ]
     },
     "metadata": {
      "needs_background": "light"
     },
     "output_type": "display_data"
    }
   ],
   "source": [
    "def plot_confusion_matrix(cm, classes, \n",
    "                          normalize = False,\n",
    "                          title = 'Confusion matrix',\n",
    "                          cmap = plt.cm.Blues):\n",
    "    \"\"\"\n",
    "    This function prints and plots the confusion matrix. \n",
    "    Normalization can be applied by setting 'normalize = True'\n",
    "    \"\"\"\n",
    "    \n",
    "    if normalize:\n",
    "        cm = cm.astype('float') / cm.sum(axis = 1)[:, np.newaxis]\n",
    "        print(\"Normalized Confusion Matrix\")\n",
    "    else:\n",
    "        print('Confusion matrix, without normalization')\n",
    "    \n",
    "    print(cm)\n",
    "    \n",
    "    plt.imshow(cm, interpolation = 'nearest', cmap = cmap)\n",
    "    plt.title(title)\n",
    "    plt.colorbar()\n",
    "    tick_marks = np.arange(len(classes))\n",
    "    plt.xticks(tick_marks, classes, rotation = 45)\n",
    "    plt.yticks(tick_marks, classes)\n",
    "    \n",
    "    fmt = '.2f' if normalize else 'd'\n",
    "    thresh = cm.max()/2.\n",
    "    for i,j in itertools.product(range(cm.shape[0]), range(cm.shape[1])):\n",
    "        plt.text(j, i, format(cm[i,j], fmt),\n",
    "                 horizontalalignment = \"center\",\n",
    "                 color = \"white\" if cm[i,j] > thresh else \"black\")\n",
    "        \n",
    "    plt.tight_layout()\n",
    "    plt.ylabel('True label')\n",
    "    plt.xlabel('Predicted label')\n",
    "    plt.show()\n",
    "    \n",
    "p_test = model.predict(x_test).argmax(axis = 1)\n",
    "cm = confusion_matrix(y_test, p_test)\n",
    "plot_confusion_matrix(cm, list(range(10)))\n",
    "    "
   ]
  },
  {
   "cell_type": "code",
   "execution_count": 10,
   "id": "8559ff36",
   "metadata": {},
   "outputs": [],
   "source": [
    "# Label mapping\n",
    "labels = '''T-shirt/top\n",
    "Trouser\n",
    "Pullover\n",
    "Dress\n",
    "Coat\n",
    "Sandal\n",
    "Shirt\n",
    "Sneaker\n",
    "Bag\n",
    "Ankle boot'''.split()"
   ]
  },
  {
   "cell_type": "code",
   "execution_count": 11,
   "id": "e91238b2",
   "metadata": {},
   "outputs": [
    {
     "data": {
      "image/png": "[encoded data removed]",
      "text/plain": [
       "<Figure size 432x288 with 1 Axes>"
      ]
     },
     "metadata": {
      "needs_background": "light"
     },
     "output_type": "display_data"
    }
   ],
   "source": [
    "#compute some misclassified examples\n",
    "misclassified_idx = np.where( p_test != y_test )[0]\n",
    "i = np.random.choice(misclassified_idx)\n",
    "plt.imshow(x_test[i],cmap='gray')\n",
    "plt.title(\"True label: %s Predicted: %s\" % (labels[y_test[i]], labels[p_test[i]]));"
   ]
  },
  {
   "cell_type": "code",
   "execution_count": 12,
   "id": "264f5dcf",
   "metadata": {},
   "outputs": [
    {
     "data": {
      "image/png": "[encoded data removed]",
      "text/plain": [
       "<Figure size 432x288 with 1 Axes>"
      ]
     },
     "metadata": {
      "needs_background": "light"
     },
     "output_type": "display_data"
    }
   ],
   "source": [
    "#compute some misclassified examples\n",
    "misclassified_idx = np.where(p_test != y_test)[0]\n",
    "i = np.random.choice(misclassified_idx)\n",
    "plt.imshow(x_test[i], cmap = 'gray')\n",
    "plt.title(\"True label: %s Predicted: %s\" % (labels[y_test[i]], labels[p_test[i]]));"
   ]
  },
  {
   "cell_type": "markdown",
   "id": "ff5b0f91",
   "metadata": {},
   "source": [
    "# Performing CNN on Cifar-10 data"
   ]
  },
  {
   "cell_type": "code",
   "execution_count": 13,
   "id": "937285f2",
   "metadata": {},
   "outputs": [
    {
     "name": "stdout",
     "output_type": "stream",
     "text": [
      "x_train.shape (50000, 32, 32, 3)\n",
      "y_train.shape (50000,)\n"
     ]
    }
   ],
   "source": [
    "#load in the dataset\n",
    "cifar10 = tf.keras.datasets.cifar10\n",
    "(x_train, y_train), (x_test, y_test) = cifar10.load_data()\n",
    "x_train, x_test = x_train / 255.0, x_test / 255.0\n",
    "y_train, y_test = y_train.flatten(), y_test.flatten()\n",
    "print(\"x_train.shape\", x_train.shape)\n",
    "print(\"y_train.shape\", y_train.shape)"
   ]
  },
  {
   "cell_type": "code",
   "execution_count": 14,
   "id": "25a52a73",
   "metadata": {},
   "outputs": [
    {
     "name": "stdout",
     "output_type": "stream",
     "text": [
      "number of classes 10\n"
     ]
    }
   ],
   "source": [
    "# number of classes\n",
    "k = len(set(y_train))\n",
    "print(\"number of classes\", k)"
   ]
  },
  {
   "cell_type": "code",
   "execution_count": 15,
   "id": "ca8b43ec",
   "metadata": {},
   "outputs": [],
   "source": [
    "# Build the model using the functional API\n",
    "i = Input(shape=x_train[0].shape)\n",
    "x = Conv2D(32, (3,3), strides = 2, activation = 'relu')(i)\n",
    "x = Conv2D(64, (3,3), strides = 2, activation = 'relu')(x)\n",
    "x = Conv2D(128, (3,3), strides = 2, activation = 'relu')(x)\n",
    "x = Flatten()(x)\n",
    "x = Dropout(0.2)(x)\n",
    "x = Dense(512, activation = 'relu')(x)\n",
    "x = Dense(k, activation = 'softmax')(x)\n",
    "\n",
    "model = Model(i, x)"
   ]
  },
  {
   "cell_type": "code",
   "execution_count": 16,
   "id": "53642cc5",
   "metadata": {},
   "outputs": [
    {
     "name": "stdout",
     "output_type": "stream",
     "text": [
      "Train on 50000 samples, validate on 10000 samples\n",
      "Epoch 1/15\n",
      "50000/50000 [==============================] - 16s 327us/sample - loss: 1.5237 - acc: 0.4472 - val_loss: 1.2361 - val_acc: 0.5549\n",
      "Epoch 2/15\n",
      "50000/50000 [==============================] - 17s 335us/sample - loss: 1.1725 - acc: 0.5818 - val_loss: 1.1181 - val_acc: 0.5937\n",
      "Epoch 3/15\n",
      "50000/50000 [==============================] - 17s 337us/sample - loss: 1.0074 - acc: 0.6421 - val_loss: 0.9776 - val_acc: 0.6547\n",
      "Epoch 4/15\n",
      "50000/50000 [==============================] - 17s 339us/sample - loss: 0.8866 - acc: 0.6861 - val_loss: 1.0111 - val_acc: 0.6444\n",
      "Epoch 5/15\n",
      "50000/50000 [==============================] - 17s 343us/sample - loss: 0.7827 - acc: 0.7238 - val_loss: 0.9044 - val_acc: 0.6838\n",
      "Epoch 6/15\n",
      "50000/50000 [==============================] - 17s 334us/sample - loss: 0.6908 - acc: 0.7539 - val_loss: 0.9095 - val_acc: 0.6891\n",
      "Epoch 7/15\n",
      "50000/50000 [==============================] - 16s 318us/sample - loss: 0.6105 - acc: 0.7818 - val_loss: 0.9160 - val_acc: 0.6904\n",
      "Epoch 8/15\n",
      "50000/50000 [==============================] - 16s 317us/sample - loss: 0.5335 - acc: 0.8101 - val_loss: 0.9142 - val_acc: 0.7010\n",
      "Epoch 9/15\n",
      "50000/50000 [==============================] - 17s 336us/sample - loss: 0.4655 - acc: 0.8329 - val_loss: 0.9710 - val_acc: 0.6964\n",
      "Epoch 10/15\n",
      "50000/50000 [==============================] - 17s 331us/sample - loss: 0.4164 - acc: 0.8521 - val_loss: 1.0076 - val_acc: 0.6956\n",
      "Epoch 11/15\n",
      "50000/50000 [==============================] - 17s 338us/sample - loss: 0.3704 - acc: 0.8676 - val_loss: 1.0417 - val_acc: 0.6968\n",
      "Epoch 12/15\n",
      "50000/50000 [==============================] - 16s 323us/sample - loss: 0.3305 - acc: 0.8808 - val_loss: 1.1267 - val_acc: 0.6840\n",
      "Epoch 13/15\n",
      "50000/50000 [==============================] - 16s 326us/sample - loss: 0.3039 - acc: 0.8909 - val_loss: 1.1403 - val_acc: 0.6936\n",
      "Epoch 14/15\n",
      "50000/50000 [==============================] - 17s 336us/sample - loss: 0.2832 - acc: 0.9008 - val_loss: 1.2197 - val_acc: 0.6881\n",
      "Epoch 15/15\n",
      "50000/50000 [==============================] - 17s 346us/sample - loss: 0.2581 - acc: 0.9072 - val_loss: 1.2097 - val_acc: 0.6941\n"
     ]
    }
   ],
   "source": [
    "#compile and fit\n",
    "#Note: using GPU \n",
    "model.compile(optimizer = 'adam',\n",
    "              loss = 'sparse_categorical_crossentropy',\n",
    "              metrics = ['accuracy'])\n",
    "r = model.fit(x_train, y_train, validation_data = (x_test, y_test), epochs = 15)"
   ]
  },
  {
   "cell_type": "code",
   "execution_count": 17,
   "id": "5f137b4a",
   "metadata": {},
   "outputs": [
    {
     "data": {
      "text/plain": [
       "<matplotlib.legend.Legend at 0x12dbdc63c88>"
      ]
     },
     "execution_count": 17,
     "metadata": {},
     "output_type": "execute_result"
    },
    {
     "data": {
      "image/png": "[encoded data removed]",
      "text/plain": [
       "<Figure size 432x288 with 1 Axes>"
      ]
     },
     "metadata": {
      "needs_background": "light"
     },
     "output_type": "display_data"
    }
   ],
   "source": [
    "# plot loss per iteration\n",
    "plt.plot(r.history['loss'], label = 'loss')\n",
    "plt.plot(r.history['val_loss'], label = 'val_loss')\n",
    "plt.legend()"
   ]
  },
  {
   "cell_type": "code",
   "execution_count": 18,
   "id": "54c718b0",
   "metadata": {},
   "outputs": [
    {
     "data": {
      "text/plain": [
       "<matplotlib.legend.Legend at 0x12dbdcc0ba8>"
      ]
     },
     "execution_count": 18,
     "metadata": {},
     "output_type": "execute_result"
    },
    {
     "data": {
      "image/png": "[encoded data removed]",
      "text/plain": [
       "<Figure size 432x288 with 1 Axes>"
      ]
     },
     "metadata": {
      "needs_background": "light"
     },
     "output_type": "display_data"
    }
   ],
   "source": [
    "#plot accuracy per iteration\n",
    "plt.plot(r.history['acc'], label = 'acc')\n",
    "plt.plot(r.history['val_acc'], label = 'val_acc')\n",
    "plt.legend()"
   ]
  },
  {
   "cell_type": "code",
   "execution_count": 19,
   "id": "7d9caca5",
   "metadata": {},
   "outputs": [
    {
     "name": "stdout",
     "output_type": "stream",
     "text": [
      "Confusion matrix, without normalization\n",
      "[[735  26  47  16  18   5  13  11  80  49]\n",
      " [ 16 849   4   6   5   5  15   6  21  73]\n",
      " [ 71  10 572  50  85  63  87  41  15   6]\n",
      " [ 23  22  74 417  87 178 100  55  20  24]\n",
      " [ 30   6  75  55 629  40  77  74  13   1]\n",
      " [ 13  10  65 170  62 552  36  66  11  15]\n",
      " [  8   4  36  56  28  24 820   8   6  10]\n",
      " [ 13   6  27  37  57  52  22 765   6  15]\n",
      " [ 58  44  11  17   5   3   9   3 814  36]\n",
      " [ 28 103   8  10   7   9  11  15  21 788]]\n"
     ]
    },
    {
     "data": {
      "image/png": "[encoded data removed]",
      "text/plain": [
       "<Figure size 432x288 with 2 Axes>"
      ]
     },
     "metadata": {
      "needs_background": "light"
     },
     "output_type": "display_data"
    }
   ],
   "source": [
    "def plot_confusion_matrix(cm, classes, \n",
    "                          normalize = False,\n",
    "                          title = 'Confusion matrix',\n",
    "                          cmap = plt.cm.Blues):\n",
    "    \"\"\"\n",
    "    This function prints and plots the confusion matrix. \n",
    "    Normalization can be applied by setting 'normalize = True'\n",
    "    \"\"\"\n",
    "    \n",
    "    if normalize:\n",
    "        cm = cm.astype('float') / cm.sum(axis = 1)[:, np.newaxis]\n",
    "        print(\"Normalized Confusion Matrix\")\n",
    "    else:\n",
    "        print('Confusion matrix, without normalization')\n",
    "    \n",
    "    print(cm)\n",
    "    \n",
    "    plt.imshow(cm, interpolation = 'nearest', cmap = cmap)\n",
    "    plt.title(title)\n",
    "    plt.colorbar()\n",
    "    tick_marks = np.arange(len(classes))\n",
    "    plt.xticks(tick_marks, classes, rotation = 45)\n",
    "    plt.yticks(tick_marks, classes)\n",
    "    \n",
    "    fmt = '.2f' if normalize else 'd'\n",
    "    thresh = cm.max()/2.\n",
    "    for i,j in itertools.product(range(cm.shape[0]), range(cm.shape[1])):\n",
    "        plt.text(j, i, format(cm[i,j], fmt),\n",
    "                 horizontalalignment = \"center\",\n",
    "                 color = \"white\" if cm[i,j] > thresh else \"black\")\n",
    "        \n",
    "    plt.tight_layout()\n",
    "    plt.ylabel('True label')\n",
    "    plt.xlabel('Predicted label')\n",
    "    plt.show()\n",
    "    \n",
    "p_test = model.predict(x_test).argmax(axis = 1)\n",
    "cm = confusion_matrix(y_test, p_test)\n",
    "plot_confusion_matrix(cm, list(range(10)))"
   ]
  },
  {
   "cell_type": "code",
   "execution_count": 20,
   "id": "e29dfb03",
   "metadata": {},
   "outputs": [],
   "source": [
    "# Label mapping\n",
    "labels = '''airplane\n",
    "automobile\n",
    "bird\n",
    "cat\n",
    "deer\n",
    "dog\n",
    "frog\n",
    "horse\n",
    "ship\n",
    "truck'''.split()"
   ]
  },
  {
   "cell_type": "code",
   "execution_count": 21,
   "id": "6098f3f1",
   "metadata": {},
   "outputs": [
    {
     "data": {
      "image/png": "[encoded data removed]",
      "text/plain": [
       "<Figure size 432x288 with 1 Axes>"
      ]
     },
     "metadata": {
      "needs_background": "light"
     },
     "output_type": "display_data"
    }
   ],
   "source": [
    "#compute some misclassified examples\n",
    "misclassified_idx = np.where( p_test != y_test )[0]\n",
    "i = np.random.choice(misclassified_idx)\n",
    "plt.imshow(x_test[i],cmap='gray')\n",
    "plt.title(\"True label: %s Predicted: %s\" % (labels[y_test[i]], labels[p_test[i]]));"
   ]
  },
  {
   "cell_type": "code",
   "execution_count": 22,
   "id": "a46d9386",
   "metadata": {},
   "outputs": [
    {
     "data": {
      "image/png": "[encoded data removed]",
      "text/plain": [
       "<Figure size 432x288 with 1 Axes>"
      ]
     },
     "metadata": {
      "needs_background": "light"
     },
     "output_type": "display_data"
    }
   ],
   "source": [
    "#compute some misclassified examples\n",
    "misclassified_idx = np.where( p_test != y_test )[0]\n",
    "i = np.random.choice(misclassified_idx)\n",
    "plt.imshow(x_test[i],cmap='gray')\n",
    "plt.title(\"True label: %s Predicted: %s\" % (labels[y_test[i]], labels[p_test[i]]));"
   ]
  },
  {
   "cell_type": "markdown",
   "id": "ddfc7bc1",
   "metadata": {},
   "source": [
    "# Augmenting CIFAR-10 Data using Batch Normalization"
   ]
  },
  {
   "cell_type": "code",
   "execution_count": 23,
   "id": "866d9cca",
   "metadata": {},
   "outputs": [
    {
     "name": "stdout",
     "output_type": "stream",
     "text": [
      "x_train.shape (50000, 32, 32, 3)\n",
      "y_train.shape (50000,)\n"
     ]
    }
   ],
   "source": [
    "#load in the dataset\n",
    "cifar10 = tf.keras.datasets.cifar10\n",
    "(x_train, y_train), (x_test, y_test) = cifar10.load_data()\n",
    "x_train, x_test = x_train / 255.0, x_test / 255.0\n",
    "y_train, y_test = y_train.flatten(), y_test.flatten()\n",
    "print(\"x_train.shape\", x_train.shape)\n",
    "print(\"y_train.shape\", y_train.shape)"
   ]
  },
  {
   "cell_type": "code",
   "execution_count": 24,
   "id": "6c7df67c",
   "metadata": {},
   "outputs": [
    {
     "name": "stdout",
     "output_type": "stream",
     "text": [
      "number of classes 10\n"
     ]
    }
   ],
   "source": [
    "# number of classes\n",
    "k = len(set(y_train))\n",
    "print(\"number of classes\", k)"
   ]
  },
  {
   "cell_type": "code",
   "execution_count": 25,
   "id": "bdd095c6",
   "metadata": {},
   "outputs": [],
   "source": [
    "i = Input(shape = x_train[0].shape)\n",
    "x = Conv2D(32, (3,3), activation = 'relu', padding = 'same')(i)\n",
    "x = BatchNormalization()(x)\n",
    "\n",
    "x = Conv2D(32, (3,3), activation = 'relu', padding = 'same')(x)\n",
    "x = BatchNormalization()(x)\n",
    "x = MaxPooling2D((2,2))(x)\n",
    "\n",
    "x = Conv2D(64, (3,3), activation = 'relu', padding = 'same')(x)\n",
    "x = BatchNormalization()(x)\n",
    "\n",
    "x = Conv2D(64, (3,3), activation = 'relu', padding = 'same')(x)\n",
    "x = BatchNormalization()(x)\n",
    "x = MaxPooling2D((2,2))(x)\n",
    "\n",
    "x = Conv2D(128,(3,3), activation = 'relu', padding = 'same')(x)\n",
    "x = BatchNormalization()(x)\n",
    "\n",
    "x = Conv2D(128,(3,3), activation = 'relu', padding = 'same')(x)\n",
    "x = BatchNormalization()(x)\n",
    "x = MaxPooling2D((2,2))(x)\n",
    "\n",
    "x = Flatten()(x)\n",
    "x = Dropout(0.2)(x)\n",
    "x = Dense(1024, activation = 'relu')(x)\n",
    "x = Dropout(0.2)(x)\n",
    "x = Dense(k, activation = 'softmax')(x)\n",
    "\n",
    "model = Model(i,x)"
   ]
  },
  {
   "cell_type": "code",
   "execution_count": 26,
   "id": "cd3c388e",
   "metadata": {},
   "outputs": [
    {
     "name": "stdout",
     "output_type": "stream",
     "text": [
      "Train on 50000 samples, validate on 10000 samples\n",
      "Epoch 1/50\n",
      "50000/50000 [==============================] - 240s 5ms/sample - loss: 1.3049 - acc: 0.5529 - val_loss: 0.9827 - val_acc: 0.6580\n",
      "Epoch 2/50\n",
      "50000/50000 [==============================] - 236s 5ms/sample - loss: 0.8495 - acc: 0.7066 - val_loss: 0.8603 - val_acc: 0.7077\n",
      "Epoch 3/50\n",
      "50000/50000 [==============================] - 237s 5ms/sample - loss: 0.6946 - acc: 0.7617 - val_loss: 0.6805 - val_acc: 0.7699\n",
      "Epoch 4/50\n",
      "50000/50000 [==============================] - 239s 5ms/sample - loss: 0.5864 - acc: 0.8006 - val_loss: 0.8552 - val_acc: 0.7293\n",
      "Epoch 5/50\n",
      "50000/50000 [==============================] - 244s 5ms/sample - loss: 0.4939 - acc: 0.8280 - val_loss: 0.6109 - val_acc: 0.7991\n",
      "Epoch 6/50\n",
      "50000/50000 [==============================] - 240s 5ms/sample - loss: 0.4266 - acc: 0.8535 - val_loss: 0.5846 - val_acc: 0.8153\n",
      "Epoch 7/50\n",
      "50000/50000 [==============================] - 244s 5ms/sample - loss: 0.3568 - acc: 0.8781 - val_loss: 0.6167 - val_acc: 0.8084\n",
      "Epoch 8/50\n",
      "50000/50000 [==============================] - 243s 5ms/sample - loss: 0.3079 - acc: 0.8927 - val_loss: 0.6526 - val_acc: 0.8091\n",
      "Epoch 9/50\n",
      "50000/50000 [==============================] - 239s 5ms/sample - loss: 0.2571 - acc: 0.9110 - val_loss: 0.7455 - val_acc: 0.8061\n",
      "Epoch 10/50\n",
      "32416/50000 [==================>...........] - ETA: 1:20 - loss: 0.2192 - acc: 0.9232"
     ]
    },
    {
     "ename": "KeyboardInterrupt",
     "evalue": "",
     "output_type": "error",
     "traceback": [
      "\u001b[1;31m---------------------------------------------------------------------------\u001b[0m",
      "\u001b[1;31mKeyboardInterrupt\u001b[0m                         Traceback (most recent call last)",
      "\u001b[1;32m<ipython-input-26-6707c22ea03e>\u001b[0m in \u001b[0;36m<module>\u001b[1;34m\u001b[0m\n\u001b[0;32m      4\u001b[0m               \u001b[0mloss\u001b[0m \u001b[1;33m=\u001b[0m \u001b[1;34m'sparse_categorical_crossentropy'\u001b[0m\u001b[1;33m,\u001b[0m\u001b[1;33m\u001b[0m\u001b[1;33m\u001b[0m\u001b[0m\n\u001b[0;32m      5\u001b[0m               metrics = ['accuracy'])\n\u001b[1;32m----> 6\u001b[1;33m \u001b[0mr\u001b[0m \u001b[1;33m=\u001b[0m \u001b[0mmodel\u001b[0m\u001b[1;33m.\u001b[0m\u001b[0mfit\u001b[0m\u001b[1;33m(\u001b[0m\u001b[0mx_train\u001b[0m\u001b[1;33m,\u001b[0m \u001b[0my_train\u001b[0m\u001b[1;33m,\u001b[0m \u001b[0mvalidation_data\u001b[0m \u001b[1;33m=\u001b[0m \u001b[1;33m(\u001b[0m\u001b[0mx_test\u001b[0m\u001b[1;33m,\u001b[0m \u001b[0my_test\u001b[0m\u001b[1;33m)\u001b[0m\u001b[1;33m,\u001b[0m \u001b[0mepochs\u001b[0m \u001b[1;33m=\u001b[0m \u001b[1;36m50\u001b[0m\u001b[1;33m)\u001b[0m\u001b[1;33m\u001b[0m\u001b[1;33m\u001b[0m\u001b[0m\n\u001b[0m",
      "\u001b[1;32m~\\anaconda3\\envs\\myenv\\lib\\site-packages\\tensorflow\\python\\keras\\engine\\training.py\u001b[0m in \u001b[0;36mfit\u001b[1;34m(self, x, y, batch_size, epochs, verbose, callbacks, validation_split, validation_data, shuffle, class_weight, sample_weight, initial_epoch, steps_per_epoch, validation_steps, validation_freq, max_queue_size, workers, use_multiprocessing, **kwargs)\u001b[0m\n\u001b[0;32m    778\u001b[0m           \u001b[0mvalidation_steps\u001b[0m\u001b[1;33m=\u001b[0m\u001b[0mvalidation_steps\u001b[0m\u001b[1;33m,\u001b[0m\u001b[1;33m\u001b[0m\u001b[1;33m\u001b[0m\u001b[0m\n\u001b[0;32m    779\u001b[0m           \u001b[0mvalidation_freq\u001b[0m\u001b[1;33m=\u001b[0m\u001b[0mvalidation_freq\u001b[0m\u001b[1;33m,\u001b[0m\u001b[1;33m\u001b[0m\u001b[1;33m\u001b[0m\u001b[0m\n\u001b[1;32m--> 780\u001b[1;33m           steps_name='steps_per_epoch')\n\u001b[0m\u001b[0;32m    781\u001b[0m \u001b[1;33m\u001b[0m\u001b[0m\n\u001b[0;32m    782\u001b[0m   def evaluate(self,\n",
      "\u001b[1;32m~\\anaconda3\\envs\\myenv\\lib\\site-packages\\tensorflow\\python\\keras\\engine\\training_arrays.py\u001b[0m in \u001b[0;36mmodel_iteration\u001b[1;34m(model, inputs, targets, sample_weights, batch_size, epochs, verbose, callbacks, val_inputs, val_targets, val_sample_weights, shuffle, initial_epoch, steps_per_epoch, validation_steps, validation_freq, mode, validation_in_fit, prepared_feed_values_from_dataset, steps_name, **kwargs)\u001b[0m\n\u001b[0;32m    361\u001b[0m \u001b[1;33m\u001b[0m\u001b[0m\n\u001b[0;32m    362\u001b[0m         \u001b[1;31m# Get outputs.\u001b[0m\u001b[1;33m\u001b[0m\u001b[1;33m\u001b[0m\u001b[1;33m\u001b[0m\u001b[0m\n\u001b[1;32m--> 363\u001b[1;33m         \u001b[0mbatch_outs\u001b[0m \u001b[1;33m=\u001b[0m \u001b[0mf\u001b[0m\u001b[1;33m(\u001b[0m\u001b[0mins_batch\u001b[0m\u001b[1;33m)\u001b[0m\u001b[1;33m\u001b[0m\u001b[1;33m\u001b[0m\u001b[0m\n\u001b[0m\u001b[0;32m    364\u001b[0m         \u001b[1;32mif\u001b[0m \u001b[1;32mnot\u001b[0m \u001b[0misinstance\u001b[0m\u001b[1;33m(\u001b[0m\u001b[0mbatch_outs\u001b[0m\u001b[1;33m,\u001b[0m \u001b[0mlist\u001b[0m\u001b[1;33m)\u001b[0m\u001b[1;33m:\u001b[0m\u001b[1;33m\u001b[0m\u001b[1;33m\u001b[0m\u001b[0m\n\u001b[0;32m    365\u001b[0m           \u001b[0mbatch_outs\u001b[0m \u001b[1;33m=\u001b[0m \u001b[1;33m[\u001b[0m\u001b[0mbatch_outs\u001b[0m\u001b[1;33m]\u001b[0m\u001b[1;33m\u001b[0m\u001b[1;33m\u001b[0m\u001b[0m\n",
      "\u001b[1;32m~\\anaconda3\\envs\\myenv\\lib\\site-packages\\tensorflow\\python\\keras\\backend.py\u001b[0m in \u001b[0;36m__call__\u001b[1;34m(self, inputs)\u001b[0m\n\u001b[0;32m   3290\u001b[0m \u001b[1;33m\u001b[0m\u001b[0m\n\u001b[0;32m   3291\u001b[0m     fetched = self._callable_fn(*array_vals,\n\u001b[1;32m-> 3292\u001b[1;33m                                 run_metadata=self.run_metadata)\n\u001b[0m\u001b[0;32m   3293\u001b[0m     \u001b[0mself\u001b[0m\u001b[1;33m.\u001b[0m\u001b[0m_call_fetch_callbacks\u001b[0m\u001b[1;33m(\u001b[0m\u001b[0mfetched\u001b[0m\u001b[1;33m[\u001b[0m\u001b[1;33m-\u001b[0m\u001b[0mlen\u001b[0m\u001b[1;33m(\u001b[0m\u001b[0mself\u001b[0m\u001b[1;33m.\u001b[0m\u001b[0m_fetches\u001b[0m\u001b[1;33m)\u001b[0m\u001b[1;33m:\u001b[0m\u001b[1;33m]\u001b[0m\u001b[1;33m)\u001b[0m\u001b[1;33m\u001b[0m\u001b[1;33m\u001b[0m\u001b[0m\n\u001b[0;32m   3294\u001b[0m     output_structure = nest.pack_sequence_as(\n",
      "\u001b[1;32m~\\anaconda3\\envs\\myenv\\lib\\site-packages\\tensorflow\\python\\client\\session.py\u001b[0m in \u001b[0;36m__call__\u001b[1;34m(self, *args, **kwargs)\u001b[0m\n\u001b[0;32m   1456\u001b[0m         ret = tf_session.TF_SessionRunCallable(self._session._session,\n\u001b[0;32m   1457\u001b[0m                                                \u001b[0mself\u001b[0m\u001b[1;33m.\u001b[0m\u001b[0m_handle\u001b[0m\u001b[1;33m,\u001b[0m \u001b[0margs\u001b[0m\u001b[1;33m,\u001b[0m\u001b[1;33m\u001b[0m\u001b[1;33m\u001b[0m\u001b[0m\n\u001b[1;32m-> 1458\u001b[1;33m                                                run_metadata_ptr)\n\u001b[0m\u001b[0;32m   1459\u001b[0m         \u001b[1;32mif\u001b[0m \u001b[0mrun_metadata\u001b[0m\u001b[1;33m:\u001b[0m\u001b[1;33m\u001b[0m\u001b[1;33m\u001b[0m\u001b[0m\n\u001b[0;32m   1460\u001b[0m           \u001b[0mproto_data\u001b[0m \u001b[1;33m=\u001b[0m \u001b[0mtf_session\u001b[0m\u001b[1;33m.\u001b[0m\u001b[0mTF_GetBuffer\u001b[0m\u001b[1;33m(\u001b[0m\u001b[0mrun_metadata_ptr\u001b[0m\u001b[1;33m)\u001b[0m\u001b[1;33m\u001b[0m\u001b[1;33m\u001b[0m\u001b[0m\n",
      "\u001b[1;31mKeyboardInterrupt\u001b[0m: "
     ]
    }
   ],
   "source": [
    "#compile and fit\n",
    "#Note: using GPU \n",
    "model.compile(optimizer = 'adam',\n",
    "              loss = 'sparse_categorical_crossentropy',\n",
    "              metrics = ['accuracy'])\n",
    "r = model.fit(x_train, y_train, validation_data = (x_test, y_test), epochs = 50)"
   ]
  },
  {
   "cell_type": "code",
   "execution_count": null,
   "id": "97acd8a2",
   "metadata": {},
   "outputs": [],
   "source": [
    "#fit with data augmentation\n",
    "batch_size = 32\n",
    "data_generator = tf.keras.preprocessing.image.ImageDataGenerator(width_shift_range = 0.1, height_shift_range = 0.1, horizontal_flip = True)\n",
    "train_generator = data_generator.flow(x_train, y_train, batch_size)\n",
    "steps_per_epoch = x_train.shape[0] // batch_size\n",
    "r = model.fit_generator(train_generator, validation_data = (x_test, y_test), steps_per_epoch = steps_per_epoch, epochs = 50)"
   ]
  },
  {
   "cell_type": "code",
   "execution_count": null,
   "id": "e73168a0",
   "metadata": {},
   "outputs": [],
   "source": [
    "# plot loss per iteration\n",
    "plt.plot(r.history['loss'], label = 'loss')\n",
    "plt.plot(r.history['val_loss'], label = 'val_loss')\n",
    "plt.legend()"
   ]
  },
  {
   "cell_type": "code",
   "execution_count": null,
   "id": "01042837",
   "metadata": {},
   "outputs": [],
   "source": [
    "#plot accuracy per iteration\n",
    "plt.plot(r.history['acc'], label = 'acc')\n",
    "plt.plot(r.history['val_acc'], label = 'val_acc')\n",
    "plt.legend()"
   ]
  },
  {
   "cell_type": "code",
   "execution_count": null,
   "id": "0a99d3a5",
   "metadata": {},
   "outputs": [],
   "source": [
    "def plot_confusion_matrix(cm, classes, \n",
    "                          normalize = False,\n",
    "                          title = 'Confusion matrix',\n",
    "                          cmap = plt.cm.Blues):\n",
    "    \"\"\"\n",
    "    This function prints and plots the confusion matrix. \n",
    "    Normalization can be applied by setting 'normalize = True'\n",
    "    \"\"\"\n",
    "    \n",
    "    if normalize:\n",
    "        cm = cm.astype('float') / cm.sum(axis = 1)[:, np.newaxis]\n",
    "        print(\"Normalized Confusion Matrix\")\n",
    "    else:\n",
    "        print('Confusion matrix, without normalization')\n",
    "    \n",
    "    print(cm)\n",
    "    \n",
    "    plt.imshow(cm, interpolation = 'nearest', cmap = cmap)\n",
    "    plt.title(title)\n",
    "    plt.colorbar()\n",
    "    tick_marks = np.arange(len(classes))\n",
    "    plt.xticks(tick_marks, classes, rotation = 45)\n",
    "    plt.yticks(tick_marks, classes)\n",
    "    \n",
    "    fmt = '.2f' if normalize else 'd'\n",
    "    thresh = cm.max()/2.\n",
    "    for i,j in itertools.product(range(cm.shape[0]), range(cm.shape[1])):\n",
    "        plt.text(j, i, format(cm[i,j], fmt),\n",
    "                 horizontalalignment = \"center\",\n",
    "                 color = \"white\" if cm[i,j] > thresh else \"black\")\n",
    "        \n",
    "    plt.tight_layout()\n",
    "    plt.ylabel('True label')\n",
    "    plt.xlabel('Predicted label')\n",
    "    plt.show()\n",
    "    \n",
    "p_test = model.predict(x_test).argmax(axis = 1)\n",
    "cm = confusion_matrix(y_test, p_test)\n",
    "plot_confusion_matrix(cm, list(range(10)))"
   ]
  },
  {
   "cell_type": "code",
   "execution_count": null,
   "id": "17cb0ed3",
   "metadata": {},
   "outputs": [],
   "source": [
    "# Label mapping\n",
    "labels = '''airplane\n",
    "automobile\n",
    "bird\n",
    "cat\n",
    "deer\n",
    "dog\n",
    "frog\n",
    "horse\n",
    "ship\n",
    "truck'''.split()"
   ]
  },
  {
   "cell_type": "code",
   "execution_count": null,
   "id": "8b36b0a4",
   "metadata": {},
   "outputs": [],
   "source": [
    "#compute some misclassified examples\n",
    "misclassified_idx = np.where( p_test != y_test )[0]\n",
    "i = np.random.choice(misclassified_idx)\n",
    "plt.imshow(x_test[i],cmap='gray')\n",
    "plt.title(\"True label: %s Predicted: %s\" % (labels[y_test[i]], labels[p_test[i]]));"
   ]
  },
  {
   "cell_type": "code",
   "execution_count": null,
   "id": "cddf2c6c",
   "metadata": {},
   "outputs": [],
   "source": [
    "model.summary()"
   ]
  },
  {
   "cell_type": "code",
   "execution_count": null,
   "id": "f4d91490",
   "metadata": {},
   "outputs": [],
   "source": []
  }
 ],
 "metadata": {
  "kernelspec": {
   "display_name": "Python 3",
   "language": "python",
   "name": "python3"
  },
  "language_info": {
   "codemirror_mode": {
    "name": "ipython",
    "version": 3
   },
   "file_extension": ".py",
   "mimetype": "text/x-python",
   "name": "python",
   "nbconvert_exporter": "python",
   "pygments_lexer": "ipython3",
   "version": "3.6.13"
  }
 },
 "nbformat": 4,
 "nbformat_minor": 5
}
